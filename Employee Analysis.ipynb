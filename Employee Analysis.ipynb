{
 "cells": [
  {
   "cell_type": "code",
   "execution_count": 37,
   "id": "36e4c70d-7ce7-49c0-8b3b-aadecf58f95f",
   "metadata": {},
   "outputs": [],
   "source": [
    "import numpy as np"
   ]
  },
  {
   "cell_type": "code",
   "execution_count": 38,
   "id": "86d6255a-a980-4790-aa49-22802ed3cbd4",
   "metadata": {},
   "outputs": [],
   "source": [
    "import pandas as pd\n",
    "import matplotlib.pyplot as plt\n",
    "import seaborn as sns "
   ]
  },
  {
   "cell_type": "code",
   "execution_count": 39,
   "id": "63ee839a-3fb3-4dea-a680-2d040f76fa0f",
   "metadata": {},
   "outputs": [],
   "source": [
    "np.random.seed(42)"
   ]
  },
  {
   "cell_type": "code",
   "execution_count": 62,
   "id": "cb6521ac-7a63-4155-8a01-137f6be7654a",
   "metadata": {},
   "outputs": [],
   "source": [
    "employee=[f\"EMP_{str(i).zfill(3)}\" for i in range(1,31)]\n",
    "dates = pd.date_range(\"2025-07-01\",periods=30,freq=\"D\")"
   ]
  },
  {
   "cell_type": "code",
   "execution_count": 64,
   "id": "50f637cc-f9e4-45a3-a30a-7fc44142f410",
   "metadata": {},
   "outputs": [
    {
     "data": {
      "text/plain": [
       "['EMP_001',\n",
       " 'EMP_002',\n",
       " 'EMP_003',\n",
       " 'EMP_004',\n",
       " 'EMP_005',\n",
       " 'EMP_006',\n",
       " 'EMP_007',\n",
       " 'EMP_008',\n",
       " 'EMP_009',\n",
       " 'EMP_010',\n",
       " 'EMP_011',\n",
       " 'EMP_012',\n",
       " 'EMP_013',\n",
       " 'EMP_014',\n",
       " 'EMP_015',\n",
       " 'EMP_016',\n",
       " 'EMP_017',\n",
       " 'EMP_018',\n",
       " 'EMP_019',\n",
       " 'EMP_020',\n",
       " 'EMP_021',\n",
       " 'EMP_022',\n",
       " 'EMP_023',\n",
       " 'EMP_024',\n",
       " 'EMP_025',\n",
       " 'EMP_026',\n",
       " 'EMP_027',\n",
       " 'EMP_028',\n",
       " 'EMP_029',\n",
       " 'EMP_030']"
      ]
     },
     "execution_count": 64,
     "metadata": {},
     "output_type": "execute_result"
    }
   ],
   "source": [
    "employee"
   ]
  },
  {
   "cell_type": "code",
   "execution_count": 65,
   "id": "4762c673-6069-4466-be2b-35f0cec63c16",
   "metadata": {},
   "outputs": [],
   "source": [
    "data = {\n",
    "     \"Date\":np.tile(dates,len(employee)),\n",
    "     \"Employee\":np.repeat(employee,len(dates)),\n",
    "     \"Working_Hours\":np.random.uniform(4,10,size=len(dates)*len(employee)).round(2)\n",
    "}\n"
   ]
  },
  {
   "cell_type": "code",
   "execution_count": 66,
   "id": "ef3f51b8-1094-4525-8161-4df43eedfbab",
   "metadata": {},
   "outputs": [],
   "source": [
    "df = pd.DataFrame(data)"
   ]
  },
  {
   "cell_type": "code",
   "execution_count": 67,
   "id": "9215a249-66f1-4743-b18c-b8e3195e0ab8",
   "metadata": {},
   "outputs": [],
   "source": [
    "df.to_csv(\"employee_working_hours.csv\",index=False)"
   ]
  },
  {
   "cell_type": "code",
   "execution_count": 68,
   "id": "8ad8a414-6082-4a99-ade0-63c17a5f8c5d",
   "metadata": {},
   "outputs": [],
   "source": [
    "df_csv = pd.read_csv(\"employee_working_hours.csv\")"
   ]
  },
  {
   "cell_type": "code",
   "execution_count": 69,
   "id": "3e10bb34-8f19-4a39-864f-f6ffe4496ca2",
   "metadata": {},
   "outputs": [
    {
     "name": "stdout",
     "output_type": "stream",
     "text": [
      "         Date Employee  Working_Hours\n",
      "0  2025-07-01  EMP_001           5.25\n",
      "1  2025-07-02  EMP_001           4.16\n",
      "2  2025-07-03  EMP_001           5.09\n",
      "3  2025-07-04  EMP_001           7.50\n",
      "4  2025-07-05  EMP_001           6.53\n",
      "       Working_Hours\n",
      "count     900.000000\n",
      "mean        7.016256\n",
      "std         1.757421\n",
      "min         4.030000\n",
      "25%         5.430000\n",
      "50%         7.075000\n",
      "75%         8.532500\n",
      "max        10.000000\n",
      "30\n"
     ]
    }
   ],
   "source": [
    "print(df_csv.head())\n",
    "print(df_csv.describe())\n",
    "print(df_csv[\"Employee\"].nunique())"
   ]
  },
  {
   "cell_type": "code",
   "execution_count": 70,
   "id": "005e4782-e19f-4a36-93e8-a9c2acd2d939",
   "metadata": {},
   "outputs": [],
   "source": [
    "total_hours = df_csv.groupby(\"Employee\")[\"Working_Hours\"].sum().sort_values(ascending = False)"
   ]
  },
  {
   "cell_type": "code",
   "execution_count": 71,
   "id": "8eb5f05f-79a3-489c-a85e-ff12696a3e6d",
   "metadata": {},
   "outputs": [],
   "source": [
    "avg_daily = df_csv.groupby(\"Employee\")[\"Working_Hours\"].mean()"
   ]
  },
  {
   "cell_type": "code",
   "execution_count": 72,
   "id": "0250208b-29b1-484b-9dd3-bbb133ba1cd9",
   "metadata": {},
   "outputs": [
    {
     "name": "stdout",
     "output_type": "stream",
     "text": [
      "         Date Employee  Working_Hours  Low_Hour_Flag  High_Hour_Flag\n",
      "0  2025-07-01  EMP_001           5.25          False            True\n",
      "1  2025-07-02  EMP_001           4.16           True            True\n",
      "2  2025-07-03  EMP_001           5.09          False            True\n",
      "3  2025-07-04  EMP_001           7.50          False            True\n",
      "4  2025-07-05  EMP_001           6.53          False            True\n"
     ]
    }
   ],
   "source": [
    "threshold_low = 5\n",
    "threshold_high = 9\n",
    "df_csv[\"Low_Hour_Flag\"]=df_csv[\"Working_Hours\"] < threshold_low\n",
    "df_csv[\"High_Hour_Flag\"]=df_csv[\"Working_Hours\"] < threshold_high\n",
    "print(df_csv[df_csv[\"Low_Hour_Flag\"] | df_csv[\"High_Hour_Flag\"]].head())\n"
   ]
  },
  {
   "cell_type": "code",
   "execution_count": 73,
   "id": "d1d447b0-f4f1-4acc-916e-2748bd89d8b6",
   "metadata": {},
   "outputs": [
    {
     "data": {
      "image/png": "[encoded data removed]",
      "text/plain": [
       "<Figure size 1000x500 with 1 Axes>"
      ]
     },
     "metadata": {},
     "output_type": "display_data"
    }
   ],
   "source": [
    "top10 = total_hours.head(10)\n",
    "plt.figure(figsize=(10,5))\n",
    "sns.barplot(x=top10.index, y=top10.values)\n",
    "plt.xticks(rotation=45)\n",
    "plt.title(\"Top 10 Employee by Total Working Hours\")\n",
    "plt.ylabel(\"Hours\")\n",
    "plt.tight_layout()\n",
    "plt.show()"
   ]
  },
  {
   "cell_type": "code",
   "execution_count": 81,
   "id": "730eae91-d6ee-4586-ad1f-b2ea02ecb944",
   "metadata": {},
   "outputs": [],
   "source": [
    "Grades = df.loc[(df[\"Employee\"] == \"EMP_001\")]"
   ]
  },
  {
   "cell_type": "code",
   "execution_count": 82,
   "id": "b4b3d2cc-e4c2-4fd6-afb9-d0308bc0dbee",
   "metadata": {},
   "outputs": [
    {
     "data": {
      "text/html": [
       "<div>\n",
       "<style scoped>\n",
       "    .dataframe tbody tr th:only-of-type {\n",
       "        vertical-align: middle;\n",
       "    }\n",
       "\n",
       "    .dataframe tbody tr th {\n",
       "        vertical-align: top;\n",
       "    }\n",
       "\n",
       "    .dataframe thead th {\n",
       "        text-align: right;\n",
       "    }\n",
       "</style>\n",
       "<table border=\"1\" class=\"dataframe\">\n",
       "  <thead>\n",
       "    <tr style=\"text-align: right;\">\n",
       "      <th></th>\n",
       "      <th>Date</th>\n",
       "      <th>Employee</th>\n",
       "      <th>Working_Hours</th>\n",
       "    </tr>\n",
       "  </thead>\n",
       "  <tbody>\n",
       "    <tr>\n",
       "      <th>0</th>\n",
       "      <td>2025-07-01</td>\n",
       "      <td>EMP_001</td>\n",
       "      <td>5.25</td>\n",
       "    </tr>\n",
       "    <tr>\n",
       "      <th>1</th>\n",
       "      <td>2025-07-02</td>\n",
       "      <td>EMP_001</td>\n",
       "      <td>4.16</td>\n",
       "    </tr>\n",
       "    <tr>\n",
       "      <th>2</th>\n",
       "      <td>2025-07-03</td>\n",
       "      <td>EMP_001</td>\n",
       "      <td>5.09</td>\n",
       "    </tr>\n",
       "    <tr>\n",
       "      <th>3</th>\n",
       "      <td>2025-07-04</td>\n",
       "      <td>EMP_001</td>\n",
       "      <td>7.50</td>\n",
       "    </tr>\n",
       "    <tr>\n",
       "      <th>4</th>\n",
       "      <td>2025-07-05</td>\n",
       "      <td>EMP_001</td>\n",
       "      <td>6.53</td>\n",
       "    </tr>\n",
       "  </tbody>\n",
       "</table>\n",
       "</div>"
      ],
      "text/plain": [
       "        Date Employee  Working_Hours\n",
       "0 2025-07-01  EMP_001           5.25\n",
       "1 2025-07-02  EMP_001           4.16\n",
       "2 2025-07-03  EMP_001           5.09\n",
       "3 2025-07-04  EMP_001           7.50\n",
       "4 2025-07-05  EMP_001           6.53"
      ]
     },
     "execution_count": 82,
     "metadata": {},
     "output_type": "execute_result"
    }
   ],
   "source": [
    "Grades.head()"
   ]
  },
  {
   "cell_type": "code",
   "execution_count": 87,
   "id": "3b70ff60-22fe-44e7-9f15-d58e0e7433b2",
   "metadata": {},
   "outputs": [],
   "source": [
    "import requests\n",
    "from bs4 import BeautifulSoup\n",
    "url = \"http://books.toscrape.com\"\n",
    "response = requests.get(url)\n",
    "soup = BeautifulSoup(response.text, 'html.parser')\n",
    "books = soup.find_all('article', class_='product_pod')\n",
    "book_data=[]\n",
    "for book in books:\n",
    "    title = book.h3.a['title']\n",
    "    price = book.find('p', class_='price_color').text\n",
    "    book_data.append({\n",
    "        \"Title\":title,\n",
    "        \"Price\":price\n",
    "    }) \n",
    "\n"
   ]
  },
  {
   "cell_type": "code",
   "execution_count": 88,
   "id": "87a98f03-8831-4bc7-8f76-5482d4951b44",
   "metadata": {},
   "outputs": [
    {
     "name": "stdout",
     "output_type": "stream",
     "text": [
      "                                   Title    Price\n",
      "0                   A Light in the Attic  Â£51.77\n",
      "1                     Tipping the Velvet  Â£53.74\n",
      "2                             Soumission  Â£50.10\n",
      "3                          Sharp Objects  Â£47.82\n",
      "4  Sapiens: A Brief History of Humankind  Â£54.23\n"
     ]
    }
   ],
   "source": [
    "df = pd.DataFrame(book_data)\n",
    "print(df.head())"
   ]
  },
  {
   "cell_type": "code",
   "execution_count": null,
   "id": "07fa9e06-27f2-4af2-ae3d-7d465bf44537",
   "metadata": {},
   "outputs": [],
   "source": []
  }
 ],
 "metadata": {
  "kernelspec": {
   "display_name": "Python 3 (ipykernel)",
   "language": "python",
   "name": "python3"
  },
  "language_info": {
   "codemirror_mode": {
    "name": "ipython",
    "version": 3
   },
   "file_extension": ".py",
   "mimetype": "text/x-python",
   "name": "python",
   "nbconvert_exporter": "python",
   "pygments_lexer": "ipython3",
   "version": "3.12.4"
  }
 },
 "nbformat": 4,
 "nbformat_minor": 5
}
